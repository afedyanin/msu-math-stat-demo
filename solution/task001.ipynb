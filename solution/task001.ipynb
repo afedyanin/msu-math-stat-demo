{
 "cells": [
  {
   "metadata": {},
   "cell_type": "markdown",
   "source": [
    "## Задача 1\n",
    "\n",
    "Для выборки N=100, представленной вариационным рядом\n",
    "\n",
    "| xi | -1 | 0 | 1  | 2  | 3  | 4  | 5 |\n",
    "|----|----|---|----|----|----|----|---|\n",
    "| ni | 4  | 6 | 12 | 18 | 31 | 23 | 6 |\n",
    "\n",
    "- Построить полигон относительных частот и гистограмму накопленных частот.\n",
    "\n",
    "- Найти выборочное среднее и выборочное среднее квадратичное отклонение.\n",
    "\n",
    "- Определить доверительный интервал с доверительной вероятностью \\alpha=0.95 для оценки математического ожидания генеральной совокупности в предположении, что среднее квадратичное уклонение генеральной совокупности равно исправленному выборочному среднему s.\n",
    "\n",
    "- Проверить гипотезу о нормальности закона распределения генеральной совокупности, используя критерий Пирсона с уровнем значимости a=0,05.\n",
    "\n",
    "- Для вычислений можно использовать язык программирования.\n",
    "\n",
    "## Решение\n"
   ],
   "id": "1bf1c34fc784bded"
  },
  {
   "metadata": {
    "ExecuteTime": {
     "end_time": "2024-05-09T04:58:42.638620Z",
     "start_time": "2024-05-09T04:58:42.618063Z"
    }
   },
   "cell_type": "code",
   "source": [
    "import numpy as np\n",
    "import matplotlib.pyplot as plt\n",
    "\n",
    "xi = np.array([-1, 0, 1, 2, 3, 4, 5])\n",
    "ni = np.array([4, 6, 12, 18, 31, 23, 6])\n",
    "\n",
    "# Найдем относительные частоты\n",
    "wi = ni / ni.sum()\n"
   ],
   "id": "c373ac1734aea279",
   "outputs": [],
   "execution_count": 5
  },
  {
   "metadata": {},
   "cell_type": "code",
   "outputs": [],
   "execution_count": null,
   "source": "",
   "id": "2760dd849a6c5c99"
  }
 ],
 "metadata": {
  "kernelspec": {
   "display_name": "Python 3",
   "language": "python",
   "name": "python3"
  },
  "language_info": {
   "codemirror_mode": {
    "name": "ipython",
    "version": 2
   },
   "file_extension": ".py",
   "mimetype": "text/x-python",
   "name": "python",
   "nbconvert_exporter": "python",
   "pygments_lexer": "ipython2",
   "version": "2.7.6"
  }
 },
 "nbformat": 4,
 "nbformat_minor": 5
}
